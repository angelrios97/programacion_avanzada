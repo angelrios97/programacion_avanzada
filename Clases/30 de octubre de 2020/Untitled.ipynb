{
 "cells": [
  {
   "cell_type": "code",
   "execution_count": 36,
   "metadata": {},
   "outputs": [],
   "source": [
    "from random import randint\n",
    "# Se introducen dos matrices como listas de listas y se calcula el producto\n",
    "# siguendo el algoritmo de Strassen de multiplicación rápida de matrices. (Que es de orden n^(log_2(7)), más rápido asintóticamente\n",
    "# que el algoritmo del instituto).\n",
    "\n",
    "class Matriz:\n",
    "\n",
    "    def __init__(self,*filas):\n",
    "        self.filas = filas\n",
    "        self.orden = len(filas)\n",
    "\n",
    "    def __add__(self, matriz2):\n",
    "        return Matriz([self.filas[i][j]+matriz2.filas[i][j] for i,j in range(self.orden)])\n",
    "    \n",
    "    def __\n",
    "    \n",
    "    def bloques(self):\n",
    "        k = self.orden / 2\n",
    "        m1 = [[self.filas[i][j] for j in range(k)] for i in range(k)]  # Primer bloque\n",
    "        m2 = [[self.filas[i][j] for j in range(k, self.orden)] for i in range(k)]  # Segundo bloque\n",
    "        m3 = [[self.filas[i][j] for j in range(k)] for i in range(k, self.orden)]  # Tercer bloque\n",
    "        m4 = [[self.filas[i][j] for j in range(k, self.orden)] for i in range(k, self.orden)]  # Cuarto bloque\n",
    "        return [m1, m2, m3, m4]  # Retornamos los bloques en una lista\n",
    "\n",
    "    def bloques2(self,matriz2):\n",
    "        return [Matriz.bloques(self), Matriz.bloques(matriz2)]"
   ]
  },
  {
   "cell_type": "code",
   "execution_count": 37,
   "metadata": {},
   "outputs": [],
   "source": [
    "m=[[randint(0,10) for i in range(8)] for j in range(8)]\n",
    "M=Matriz(m)\n",
    "M2=M\n",
    "#print((M+M2).filas)"
   ]
  },
  {
   "cell_type": "code",
   "execution_count": 34,
   "metadata": {},
   "outputs": [
    {
     "name": "stdout",
     "output_type": "stream",
     "text": [
      "[[], [], [[]], [[[2, 9, 5, 5, 4, 3, 3, 7]]]]\n"
     ]
    }
   ],
   "source": [
    "print(Matriz.bloques(M))"
   ]
  },
  {
   "cell_type": "code",
   "execution_count": 22,
   "metadata": {},
   "outputs": [
    {
     "data": {
      "text/plain": [
       "[[0, 8, 3, 4, 3, 10, 5, 1],\n",
       " [3, 2, 2, 4, 0, 0, 1, 1],\n",
       " [5, 7, 4, 5, 3, 2, 0, 9],\n",
       " [3, 8, 1, 2, 10, 10, 2, 3],\n",
       " [3, 4, 4, 2, 8, 1, 8, 4],\n",
       " [8, 2, 9, 5, 3, 5, 5, 4],\n",
       " [4, 3, 8, 0, 3, 4, 9, 5],\n",
       " [3, 6, 6, 8, 7, 4, 5, 3]]"
      ]
     },
     "execution_count": 22,
     "metadata": {},
     "output_type": "execute_result"
    }
   ],
   "source": [
    "m"
   ]
  },
  {
   "cell_type": "code",
   "execution_count": null,
   "metadata": {},
   "outputs": [],
   "source": []
  }
 ],
 "metadata": {
  "kernelspec": {
   "display_name": "Python 3",
   "language": "python",
   "name": "python3"
  },
  "language_info": {
   "codemirror_mode": {
    "name": "ipython",
    "version": 3
   },
   "file_extension": ".py",
   "mimetype": "text/x-python",
   "name": "python",
   "nbconvert_exporter": "python",
   "pygments_lexer": "ipython3",
   "version": "3.8.5"
  }
 },
 "nbformat": 4,
 "nbformat_minor": 4
}
