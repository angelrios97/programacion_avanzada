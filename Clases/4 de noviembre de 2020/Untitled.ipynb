{
 "cells": [
  {
   "cell_type": "code",
   "execution_count": 9,
   "metadata": {},
   "outputs": [],
   "source": [
    "def quicksort5(lista):  # Devuelve el resultado del algoritmo quicksort hasta que la lista final tiene longitud 5.\n",
    "    if len(lista) <= 1:  # Si la lista tiene un solo elemento o es vacía, la retornamos.\n",
    "        return list(lista)\n",
    "    r = lista[-1]  # Consideramos el último elemento.\n",
    "    i = 0\n",
    "    for j in range(len(lista)):  # Vamos aumentando j uno en cada paso.\n",
    "        if lista[j] < r:  # Si el elemento en j es menor que el último, los intercambiamos y aumentamos i.\n",
    "            lista[i], lista[j] = lista[j], lista[i]\n",
    "            i += 1\n",
    "    lista[i], lista[j] = lista[j], lista[i]  # Haccemos un último cambio de los elementos en i y en j.\n",
    "    sublista1 = lista[:i]  # Consdieramos las dos partes de la lista generada.\n",
    "    sublista2 = lista[i+1:]\n",
    "    if len(sublista2) == 5:  # Cuando la segunda lista tenga tamaño 5, retornamos la lista tal cual.\n",
    "        return sublista1 + [lista[i]] + sublista2\n",
    "    return quicksort5(sublista1) + [lista[i]] + quicksort5(sublista2)  # Cuando tenga tamaño mayor, recursión.\n",
    "\n",
    "                \n",
    "def insercion(lista):  # Devuelve la lista que se le pasa ordenada mediante el algorítmo de inserción.\n",
    "    for i in range(1,len(lista)):  # Para cada elemento de la lista a partir del segundo.\n",
    "        for j in range(0,i):  # Para cada elemento anterior.\n",
    "            if lista[i] < lista[j]:  # Si es mayor, los intercambiamos.\n",
    "                lista[i], lista[j] = lista[j], lista[i]\n",
    "    return(lista)\n",
    "\n",
    "\n",
    "def quicksort_insercion(lista):  # Se le pasa una lista numérica y la devuelve ordenada aplicando quicksort\n",
    "    # hasta que la lista tiene tamaño 5 y después aplica inserción.\n",
    "    return insercion(quicksort5(lista))"
   ]
  },
  {
   "cell_type": "code",
   "execution_count": 10,
   "metadata": {},
   "outputs": [],
   "source": [
    "from random import randint,seed"
   ]
  },
  {
   "cell_type": "code",
   "execution_count": 26,
   "metadata": {},
   "outputs": [
    {
     "data": {
      "text/plain": [
       "[2, 4, 12, 20, 21, 43, 46, 50, 51, 51, 65, 68, 76, 77, 78, 82, 82, 84, 84, 96]"
      ]
     },
     "execution_count": 26,
     "metadata": {},
     "output_type": "execute_result"
    }
   ],
   "source": [
    "p = [randint(0,100) for x in range(20)]\n",
    "quicksort_insercion(p)"
   ]
  },
  {
   "cell_type": "code",
   "execution_count": null,
   "metadata": {},
   "outputs": [],
   "source": []
  },
  {
   "cell_type": "code",
   "execution_count": null,
   "metadata": {},
   "outputs": [],
   "source": []
  }
 ],
 "metadata": {
  "kernelspec": {
   "display_name": "Python 3",
   "language": "python",
   "name": "python3"
  },
  "language_info": {
   "codemirror_mode": {
    "name": "ipython",
    "version": 3
   },
   "file_extension": ".py",
   "mimetype": "text/x-python",
   "name": "python",
   "nbconvert_exporter": "python",
   "pygments_lexer": "ipython3",
   "version": "3.8.5"
  }
 },
 "nbformat": 4,
 "nbformat_minor": 4
}
